{
 "cells": [
  {
   "cell_type": "markdown",
   "metadata": {},
   "source": [
    "## 通道交换"
   ]
  },
  {
   "cell_type": "code",
   "execution_count": 2,
   "metadata": {},
   "outputs": [
    {
     "data": {
      "text/plain": [
       "-1"
      ]
     },
     "execution_count": 2,
     "metadata": {},
     "output_type": "execute_result"
    }
   ],
   "source": [
    "import cv2\n",
    "img = cv2.imread(\"image/imori.jpg\")\n",
    "b = img[:,:,0].copy()\n",
    "g = img[:,:,1].copy()\n",
    "r = img[:,:,2].copy()\n",
    "    \n",
    "img[:,:,0] = r\n",
    "img[:,:,1] = g\n",
    "img[:,:,2] = b\n",
    "\n",
    "cv2.imshow('image', img)\n",
    "cv2.waitKey(0)"
   ]
  },
  {
   "cell_type": "markdown",
   "metadata": {},
   "source": [
    "## 灰度化"
   ]
  },
  {
   "cell_type": "code",
   "execution_count": 8,
   "metadata": {},
   "outputs": [
    {
     "name": "stdout",
     "output_type": "stream",
     "text": [
      "[[ 80  55  53 ... 113  87 123]\n",
      " [ 88  65  56 ... 140 136 108]\n",
      " [ 85  78  69 ... 157 178 103]\n",
      " ...\n",
      " [172  97 108 ...  55  58  56]\n",
      " [197 114 117 ...  77  58  56]\n",
      " [153 129 125 ... 117  96  66]]\n"
     ]
    },
    {
     "data": {
      "text/plain": [
       "-1"
      ]
     },
     "execution_count": 8,
     "metadata": {},
     "output_type": "execute_result"
    }
   ],
   "source": [
    "import cv2\n",
    "import numpy as np\n",
    "img = cv2.imread(\"image/imori.jpg\")\n",
    "b = img[:,:,0].copy()\n",
    "g = img[:,:,1].copy()\n",
    "r = img[:,:,2].copy()\n",
    "\n",
    "img2 = (r*0.2126 + g*0.7152 + b*0.0722).astype(np.uint8)\n",
    "print(img2)\n",
    "cv2.imshow('image', img2)\n",
    "cv2.waitKey(0)"
   ]
  },
  {
   "cell_type": "markdown",
   "metadata": {},
   "source": [
    "## 二值化"
   ]
  },
  {
   "cell_type": "code",
   "execution_count": null,
   "metadata": {},
   "outputs": [],
   "source": [
    "import cv2\n",
    "import numpy as np\n",
    "img = cv2.imread(\"image/imori.jpg\")\n",
    "b = img[:,:,0].copy()\n",
    "g = img[:,:,1].copy()\n",
    "r = img[:,:,2].copy()\n",
    "\n",
    "img2 = (r*0.2126 + g*0.7152 + b*0.0722).astype(np.uint8)\n",
    "img2[img2 < 128] = 0\n",
    "img2[img2 >= 128] = 255\n",
    "print(img2)\n",
    "cv2.imshow('image', img2)\n",
    "cv2.waitKey(0)"
   ]
  },
  {
   "cell_type": "markdown",
   "metadata": {},
   "source": [
    "## 大津二值化"
   ]
  },
  {
   "cell_type": "code",
   "execution_count": null,
   "metadata": {},
   "outputs": [],
   "source": [
    "import cv2\n",
    "import numpy as np\n",
    "\n",
    "\n",
    "# Gray scale\n",
    "def BGR2GRAY(img):\n",
    "    b = img[:, :, 0].copy()\n",
    "    g = img[:, :, 1].copy()\n",
    "    r = img[:, :, 2].copy()\n",
    "\n",
    "    # Gray scale\n",
    "    out = 0.2126 * r + 0.7152 * g + 0.0722 * b\n",
    "    out = out.astype(np.uint8)\n",
    "\n",
    "    return out\n",
    "\n",
    "# Otsu Binarization\n",
    "def otsu_binarization(img, th=128):\n",
    "    max_sigma = 0\n",
    "    max_t = 0\n",
    "\n",
    "    # determine threshold\n",
    "    for _t in range(1, 255):\n",
    "        v0 = out[np.where(out < _t)]\n",
    "        m0 = np.mean(v0) if len(v0) > 0 else 0.\n",
    "        w0 = len(v0) / (H * W)\n",
    "        v1 = out[np.where(out >= _t)]\n",
    "        m1 = np.mean(v1) if len(v1) > 0 else 0.\n",
    "        w1 = len(v1) / (H * W)\n",
    "        sigma = w0 * w1 * ((m0 - m1) ** 2)\n",
    "        if sigma > max_sigma:\n",
    "            max_sigma = sigma\n",
    "            max_t = _t\n",
    "\n",
    "    # Binarization\n",
    "    print(\"threshold >>\", max_t)\n",
    "    th = max_t\n",
    "    out[out < th] = 0\n",
    "    out[out >= th] = 255\n",
    "\n",
    "    return out\n",
    "\n",
    "\n",
    "# Read image\n",
    "img = cv2.imread(\"image\\imori.jpg\").astype(np.float32)\n",
    "H, W, C =img.shape\n",
    "\n",
    "\n",
    "# Grayscale\n",
    "out = BGR2GRAY(img)\n",
    "\n",
    "# Otsu's binarization\n",
    "out = otsu_binarization(out)\n",
    "\n",
    "# Save result\n",
    "cv2.imshow(\"result\", out)\n",
    "cv2.waitKey(0)\n",
    "cv2.destroyAllWindows()"
   ]
  },
  {
   "cell_type": "markdown",
   "metadata": {},
   "source": [
    "## BGR与HSV转换"
   ]
  },
  {
   "cell_type": "code",
   "execution_count": 1,
   "metadata": {},
   "outputs": [
    {
     "name": "stdout",
     "output_type": "stream",
     "text": [
      "[[2 2 2 ... 1 2 2]\n",
      " [2 2 2 ... 2 2 2]\n",
      " [2 2 2 ... 2 2 2]\n",
      " ...\n",
      " [2 2 2 ... 2 2 2]\n",
      " [2 2 2 ... 2 2 2]\n",
      " [2 2 2 ... 2 2 2]]\n"
     ]
    }
   ],
   "source": [
    "import cv2\n",
    "import numpy as np\n",
    "\n",
    "\n",
    "# BGR -> HSV\n",
    "def BGR2HSV(_img):\n",
    "    img = _img.copy() / 255.\n",
    "\n",
    "    hsv = np.zeros_like(img, dtype=np.float32)\n",
    "\n",
    "    # get max and min\n",
    "    max_v = np.max(img, axis=2).copy()\n",
    "    min_v = np.min(img, axis=2).copy()\n",
    "    min_arg = np.argmin(img, axis=2)\n",
    "    print(min_arg)\n",
    "\n",
    "    # H\n",
    "    hsv[..., 0][np.where(max_v == min_v)]= 0\n",
    "    ## if min == B\n",
    "    ind = np.where(min_arg == 0)\n",
    "    hsv[..., 0][ind] = 60 * (img[..., 1][ind] - img[..., 2][ind]) / (max_v[ind] - min_v[ind]) + 60\n",
    "    ## if min == R\n",
    "    ind = np.where(min_arg == 2)\n",
    "    hsv[..., 0][ind] = 60 * (img[..., 0][ind] - img[..., 1][ind]) / (max_v[ind] - min_v[ind]) + 180\n",
    "    ## if min == G\n",
    "    ind = np.where(min_arg == 1)\n",
    "    hsv[..., 0][ind] = 60 * (img[..., 2][ind] - img[..., 0][ind]) / (max_v[ind] - min_v[ind]) + 300\n",
    "        \n",
    "    # S\n",
    "    hsv[..., 1] = max_v.copy() - min_v.copy()\n",
    "\n",
    "    # V\n",
    "    hsv[..., 2] = max_v.copy()\n",
    "    \n",
    "    return hsv\n",
    "\n",
    "\n",
    "def HSV2BGR(_img, hsv):\n",
    "    img = _img.copy() / 255.\n",
    "\n",
    "    # get max and min\n",
    "    max_v = np.max(img, axis=2).copy()\n",
    "    min_v = np.min(img, axis=2).copy()\n",
    "\n",
    "    out = np.zeros_like(img)\n",
    "\n",
    "    H = hsv[..., 0]\n",
    "    S = hsv[..., 1]\n",
    "    V = hsv[..., 2]\n",
    "\n",
    "    C = S\n",
    "    H_ = H / 60.\n",
    "    X = C * (1 - np.abs( H_ % 2 - 1))\n",
    "    Z = np.zeros_like(H)\n",
    "\n",
    "    vals = [[Z,X,C], [Z,C,X], [X,C,Z], [C,X,Z], [C,Z,X], [X,Z,C]]\n",
    "\n",
    "    for i in range(6):\n",
    "        ind = np.where((i <= H_) & (H_ < (i+1)))\n",
    "        out[..., 0][ind] = (V - C)[ind] + vals[i][0][ind]\n",
    "        out[..., 1][ind] = (V - C)[ind] + vals[i][1][ind]\n",
    "        out[..., 2][ind] = (V - C)[ind] + vals[i][2][ind]\n",
    "\n",
    "    out[np.where(max_v == min_v)] = 0\n",
    "    out = np.clip(out, 0, 1)\n",
    "    out = (out * 255).astype(np.uint8)\n",
    "\n",
    "    return out\n",
    "\n",
    "\n",
    "# Read image\n",
    "img = cv2.imread(\"image/imori.jpg\").astype(np.float32)\n",
    "\n",
    "# RGB > HSV\n",
    "hsv = BGR2HSV(img)\n",
    "\n",
    "# Transpose Hue\n",
    "hsv[..., 0] = (hsv[..., 0] + 180) % 360\n",
    "\n",
    "# HSV > RGB\n",
    "out = HSV2BGR(img, hsv)\n",
    "\n",
    "# Save result\n",
    "cv2.imshow(\"result\", out)\n",
    "cv2.waitKey(0)\n",
    "cv2.destroyAllWindows()\n"
   ]
  },
  {
   "cell_type": "markdown",
   "metadata": {},
   "source": [
    "## 减色处理"
   ]
  },
  {
   "cell_type": "code",
   "execution_count": 2,
   "metadata": {},
   "outputs": [
    {
     "data": {
      "text/plain": [
       "-1"
      ]
     },
     "execution_count": 2,
     "metadata": {},
     "output_type": "execute_result"
    }
   ],
   "source": [
    "import cv2\n",
    "def decrease_color(img):\n",
    "    out = img // 64 * 64 + 32\n",
    "    return out\n",
    "img = cv2.imread('image/imori.jpg')\n",
    "img2 = decrease_color(img)\n",
    "cv2.imshow('window', img2)\n",
    "cv2.waitKey(0)"
   ]
  },
  {
   "cell_type": "markdown",
   "metadata": {},
   "source": [
    "## 池化处理"
   ]
  },
  {
   "cell_type": "code",
   "execution_count": 3,
   "metadata": {},
   "outputs": [
    {
     "data": {
      "text/plain": [
       "-1"
      ]
     },
     "execution_count": 3,
     "metadata": {},
     "output_type": "execute_result"
    }
   ],
   "source": [
    "import cv2\n",
    "def average_pooling(img, G=8):\n",
    "    out = img.copy()\n",
    "    H,W,C = out.shape\n",
    "    Nh = int(H/G)\n",
    "    Nw = int(W/G)\n",
    "    for y in range(Nh):\n",
    "        for x in range(Nw):\n",
    "            for c in range(C):\n",
    "                out[G*y : G*(y+1), G*x:G*(x+1), c] = np.mean(out[G*y : G*(y+1), G*x:G*(x+1), c] ).astype(np.int)\n",
    "    return out\n",
    "img = cv2.imread('image/imori.jpg')\n",
    "img2 = average_pooling(img)\n",
    "cv2.imshow('window', img2)\n",
    "cv2.waitKey(0)"
   ]
  },
  {
   "cell_type": "markdown",
   "metadata": {},
   "source": [
    "## 最大池化处理"
   ]
  },
  {
   "cell_type": "code",
   "execution_count": 4,
   "metadata": {},
   "outputs": [
    {
     "data": {
      "text/plain": [
       "-1"
      ]
     },
     "execution_count": 4,
     "metadata": {},
     "output_type": "execute_result"
    }
   ],
   "source": [
    "import cv2\n",
    "def average_pooling(img, G=8):\n",
    "    out = img.copy()\n",
    "    H,W,C = out.shape\n",
    "    Nh = int(H/G)\n",
    "    Nw = int(W/G)\n",
    "    for y in range(Nh):\n",
    "        for x in range(Nw):\n",
    "            for c in range(C):\n",
    "                out[G*y : G*(y+1), G*x:G*(x+1), c] = np.max(out[G*y : G*(y+1), G*x:G*(x+1), c] )\n",
    "    return out\n",
    "img = cv2.imread('image/imori.jpg')\n",
    "img2 = average_pooling(img)\n",
    "cv2.imshow('window', img2)\n",
    "cv2.waitKey(0)"
   ]
  },
  {
   "cell_type": "markdown",
   "metadata": {},
   "source": [
    "## 高斯滤波"
   ]
  },
  {
   "cell_type": "code",
   "execution_count": 8,
   "metadata": {},
   "outputs": [
    {
     "data": {
      "text/plain": [
       "-1"
      ]
     },
     "execution_count": 8,
     "metadata": {},
     "output_type": "execute_result"
    }
   ],
   "source": [
    "import cv2\n",
    "# Gaussian filter\n",
    "def gaussian_filter(img, K_size=3, sigma=1.3):\n",
    "    if len(img.shape) == 3:\n",
    "        H, W, C = img.shape\n",
    "    else:\n",
    "        img = np.expand_dims(img, axis=-1)\n",
    "        H, W, C = img.shape\n",
    "\n",
    "        \n",
    "    ## Zero padding\n",
    "    pad = K_size // 2\n",
    "    out = np.zeros((H + pad * 2, W + pad * 2, C), dtype=np.float)\n",
    "    out[pad: pad + H, pad: pad + W] = img.copy().astype(np.float)\n",
    "\n",
    "    ## prepare Kernel\n",
    "    K = np.zeros((K_size, K_size), dtype=np.float)\n",
    "    for x in range(-pad, -pad + K_size):\n",
    "        for y in range(-pad, -pad + K_size):\n",
    "            K[y + pad, x + pad] = np.exp( -(x ** 2 + y ** 2) / (2 * (sigma ** 2)))\n",
    "    K /= (2 * np.pi * sigma * sigma)\n",
    "    K /= K.sum()\n",
    "\n",
    "    tmp = out.copy()\n",
    "\n",
    "    # filtering\n",
    "    for y in range(H):\n",
    "        for x in range(W):\n",
    "            for c in range(C):\n",
    "                out[pad + y, pad + x, c] = np.sum(K * tmp[y: y + K_size, x: x + K_size, c])\n",
    "\n",
    "    out = np.clip(out, 0, 255)\n",
    "    out = out[pad: pad + H, pad: pad + W].astype(np.uint8)\n",
    "\n",
    "    return out\n",
    "\n",
    "img = cv2.imread('image/imori_noise.jpg')\n",
    "img2 = gaussian_filter(img, K_size=3, sigma=1.3)\n",
    "cv2.imshow('window', img2)\n",
    "cv2.waitKey(0)"
   ]
  },
  {
   "cell_type": "markdown",
   "metadata": {},
   "source": [
    "## 中值滤波"
   ]
  },
  {
   "cell_type": "code",
   "execution_count": 10,
   "metadata": {},
   "outputs": [
    {
     "data": {
      "text/plain": [
       "-1"
      ]
     },
     "execution_count": 10,
     "metadata": {},
     "output_type": "execute_result"
    }
   ],
   "source": [
    "import cv2\n",
    "# Gaussian filter\n",
    "def median_filter(img, K_size=3):\n",
    "    if len(img.shape) == 3:\n",
    "        H, W, C = img.shape\n",
    "    else:\n",
    "        img = np.expand_dims(img, axis=-1)\n",
    "        H, W, C = img.shape\n",
    "\n",
    "        \n",
    "    ## Zero padding\n",
    "    pad = K_size // 2\n",
    "    out = np.zeros((H + pad * 2, W + pad * 2, C), dtype=np.float)\n",
    "    out[pad: pad + H, pad: pad + W] = img.copy().astype(np.float)\n",
    "\n",
    "    tmp = out.copy()\n",
    "\n",
    "    # filtering\n",
    "    for y in range(H):\n",
    "        for x in range(W):\n",
    "            for c in range(C):\n",
    "                out[pad + y, pad + x, c] = np.median(tmp[y: y + K_size, x: x + K_size, c])\n",
    "\n",
    "    out = np.clip(out, 0, 255)\n",
    "    out = out[pad: pad + H, pad: pad + W].astype(np.uint8)\n",
    "\n",
    "    return out\n",
    "\n",
    "img = cv2.imread('image/imori_noise.jpg')\n",
    "img2 = median_filter(img, K_size=3)\n",
    "cv2.imshow('window', img2)\n",
    "cv2.waitKey(0)"
   ]
  },
  {
   "cell_type": "markdown",
   "metadata": {},
   "source": [
    "## 均值滤波器"
   ]
  },
  {
   "cell_type": "code",
   "execution_count": 11,
   "metadata": {},
   "outputs": [
    {
     "data": {
      "text/plain": [
       "-1"
      ]
     },
     "execution_count": 11,
     "metadata": {},
     "output_type": "execute_result"
    }
   ],
   "source": [
    "import cv2\n",
    "# Gaussian filter\n",
    "def mean_filter(img, K_size=3):\n",
    "    if len(img.shape) == 3:\n",
    "        H, W, C = img.shape\n",
    "    else:\n",
    "        img = np.expand_dims(img, axis=-1)\n",
    "        H, W, C = img.shape\n",
    "\n",
    "        \n",
    "    ## Zero padding\n",
    "    pad = K_size // 2\n",
    "    out = np.zeros((H + pad * 2, W + pad * 2, C), dtype=np.float)\n",
    "    out[pad: pad + H, pad: pad + W] = img.copy().astype(np.float)\n",
    "\n",
    "    tmp = out.copy()\n",
    "\n",
    "    # filtering\n",
    "    for y in range(H):\n",
    "        for x in range(W):\n",
    "            for c in range(C):\n",
    "                out[pad + y, pad + x, c] = np.mean(tmp[y: y + K_size, x: x + K_size, c])\n",
    "\n",
    "    out = np.clip(out, 0, 255)\n",
    "    out = out[pad: pad + H, pad: pad + W].astype(np.uint8)\n",
    "\n",
    "    return out\n",
    "\n",
    "img = cv2.imread('image/imori.jpg')\n",
    "img2 = mean_filter(img, K_size=3)\n",
    "cv2.imshow('window', img2)\n",
    "cv2.waitKey(0)"
   ]
  },
  {
   "cell_type": "markdown",
   "metadata": {},
   "source": [
    "## Motion Filter"
   ]
  },
  {
   "cell_type": "code",
   "execution_count": null,
   "metadata": {},
   "outputs": [],
   "source": [
    "import cv2\n",
    "# Gaussian filter\n",
    "def gaussian_filter(img, K_size=3, sigma=1.3):\n",
    "    if len(img.shape) == 3:\n",
    "        H, W, C = img.shape\n",
    "    else:\n",
    "        img = np.expand_dims(img, axis=-1)\n",
    "        H, W, C = img.shape\n",
    "\n",
    "        \n",
    "    ## Zero padding\n",
    "    pad = K_size // 2\n",
    "    out = np.zeros((H + pad * 2, W + pad * 2, C), dtype=np.float)\n",
    "    out[pad: pad + H, pad: pad + W] = img.copy().astype(np.float)\n",
    "\n",
    "    ## prepare Kernel\n",
    "    K = np.diag( [1] * K_size ).astype(np.float)\n",
    "    K /= K_size\n",
    "\n",
    "    tmp = out.copy()\n",
    "\n",
    "    # filtering\n",
    "    for y in range(H):\n",
    "        for x in range(W):\n",
    "            for c in range(C):\n",
    "                out[pad + y, pad + x, c] = np.sum(K * tmp[y: y + K_size, x: x + K_size, c])\n",
    "\n",
    "    out = np.clip(out, 0, 255)\n",
    "    out = out[pad: pad + H, pad: pad + W].astype(np.uint8)\n",
    "\n",
    "    return out\n",
    "\n",
    "img = cv2.imread('image/imori.jpg')\n",
    "img2 = gaussian_filter(img, K_size=3, sigma=1.3)\n",
    "cv2.imshow('window', img2)\n",
    "cv2.waitKey(0)"
   ]
  },
  {
   "cell_type": "code",
   "execution_count": null,
   "metadata": {},
   "outputs": [],
   "source": []
  },
  {
   "cell_type": "code",
   "execution_count": null,
   "metadata": {},
   "outputs": [],
   "source": []
  },
  {
   "cell_type": "code",
   "execution_count": null,
   "metadata": {},
   "outputs": [],
   "source": []
  },
  {
   "cell_type": "code",
   "execution_count": null,
   "metadata": {},
   "outputs": [],
   "source": []
  },
  {
   "cell_type": "code",
   "execution_count": null,
   "metadata": {},
   "outputs": [],
   "source": []
  },
  {
   "cell_type": "code",
   "execution_count": null,
   "metadata": {},
   "outputs": [],
   "source": []
  },
  {
   "cell_type": "code",
   "execution_count": null,
   "metadata": {},
   "outputs": [],
   "source": []
  },
  {
   "cell_type": "code",
   "execution_count": null,
   "metadata": {},
   "outputs": [],
   "source": []
  }
 ],
 "metadata": {
  "kernelspec": {
   "display_name": "Python 3",
   "language": "python",
   "name": "python3"
  },
  "language_info": {
   "codemirror_mode": {
    "name": "ipython",
    "version": 3
   },
   "file_extension": ".py",
   "mimetype": "text/x-python",
   "name": "python",
   "nbconvert_exporter": "python",
   "pygments_lexer": "ipython3",
   "version": "3.7.3"
  }
 },
 "nbformat": 4,
 "nbformat_minor": 4
}
